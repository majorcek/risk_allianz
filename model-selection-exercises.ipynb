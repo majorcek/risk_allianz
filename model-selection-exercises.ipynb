{
 "cells": [
  {
   "cell_type": "code",
   "execution_count": 123,
   "metadata": {},
   "outputs": [],
   "source": [
    "import os\n",
    "from pathlib import Path\n",
    "\n",
    "import pandas as pd\n",
    "import numpy as np\n",
    "\n",
    "import pytest\n",
    "\n",
    "from sklearn_pandas import DataFrameMapper\n",
    "\n",
    "from sklearn.preprocessing import LabelBinarizer, StandardScaler, OneHotEncoder, LabelEncoder\n",
    "from sklearn.linear_model import LogisticRegression\n",
    "from sklearn.ensemble import GradientBoostingClassifier\n",
    "from sklearn.metrics import confusion_matrix, log_loss, recall_score, accuracy_score\n",
    "from sklearn.model_selection import train_test_split, GridSearchCV\n",
    "from sklearn.pipeline import Pipeline"
   ]
  },
  {
   "cell_type": "code",
   "execution_count": 124,
   "metadata": {},
   "outputs": [],
   "source": [
    "import sklearn_pandas"
   ]
  },
  {
   "cell_type": "code",
   "execution_count": 125,
   "metadata": {},
   "outputs": [
    {
     "name": "stdout",
     "output_type": "stream",
     "text": [
      "C:\\Users\\Jasa\\Desktop\\risk\\risk-ai-workshop-master\\notebooks\\data\n"
     ]
    }
   ],
   "source": [
    "datadir = Path(os.getcwd()) / 'data'\n",
    "print(datadir)"
   ]
  },
  {
   "cell_type": "markdown",
   "metadata": {},
   "source": [
    "## Model selection exercise: preprocessing and generalization error for hit rate\n",
    "\n",
    "Difficulty: **\n",
    "\n",
    "Train and select from among at least two classifiers for the hit-rate (fake) data in `notebooks/data/hits.csv` and estimate the selected model's generalization error."
   ]
  },
  {
   "cell_type": "code",
   "execution_count": 126,
   "metadata": {},
   "outputs": [
    {
     "name": "stdout",
     "output_type": "stream",
     "text": [
      "  product_type  days  rating  hit\n",
      "0     property     3       1    0\n",
      "1    liability     1       0    0\n",
      "2    financial     0       1    0\n",
      "3    liability     3       0    0\n",
      "4    liability     0       0    1\n",
      "5     property     1       1    0\n",
      "6     property     2       0    1\n",
      "[[1 3 1]\n",
      " [2 1 0]\n",
      " [0 0 1]\n",
      " ...\n",
      " [1 3 0]\n",
      " [2 2 0]\n",
      " [0 0 1]] [0 0 0 ... 1 1 1]\n"
     ]
    }
   ],
   "source": [
    "import numpy as np\n",
    "\n",
    "df = pd.read_csv(datadir / 'hits.csv')\n",
    "print(df.head(7))\n",
    "\n",
    "df = df.replace('financial', 0)\n",
    "df = df.replace('property', 1)\n",
    "df = df.replace('liability', 2)\n",
    "\n",
    "matrix = np.array(df)\n",
    "X = matrix[:,:3]\n",
    "y = matrix[:,3]\n",
    "print(X,y)\n",
    "\n",
    "\n",
    "\n",
    "\n",
    "edge = len(y) // 3\n",
    "X_train = X[0 : edge,:]\n",
    "y_train = y[0 : edge]\n",
    "\n",
    "X_validate = X[edge : 2 * edge,:]\n",
    "y_validate = y[edge : 2 * edge]\n",
    "\n",
    "X_test = X[2 * edge:, :]\n",
    "y_test = y[2 * edge:]\n"
   ]
  },
  {
   "cell_type": "code",
   "execution_count": 127,
   "metadata": {},
   "outputs": [
    {
     "name": "stdout",
     "output_type": "stream",
     "text": [
      "Logistic Regression:0.7527839643652561\n",
      "Gradient Boosting Classifier:0.7577951002227171\n"
     ]
    }
   ],
   "source": [
    "#LogisticRegression method \n",
    "log_reg = LogisticRegression(random_state=0).fit(X_train, y_train)\n",
    "log_reg\n",
    "result_log_reg = log_reg.score(X_train, y_train)\n",
    "print('Logistic Regression:{}'.format(result_log_reg))\n",
    "\n",
    "#GradientBoostingClassifier\n",
    "\n",
    "grad_boost_classifier = GradientBoostingClassifier().fit(X_train, y_train)\n",
    "result_grad_boost = grad_boost_classifier.score(X_train, y_train)\n",
    "print('Gradient Boosting Classifier:{}'.format(result_grad_boost))"
   ]
  },
  {
   "cell_type": "markdown",
   "metadata": {},
   "source": [
    "## Model selection exercise: A simple, high accuracy predictive model\n",
    "\n",
    "Difficulty: *\n",
    "\n",
    "Choose a simple model for the fake data `notebooks/data/lightning.csv` with at least 99% accuracy on the test set. The simpler the better. "
   ]
  },
  {
   "cell_type": "code",
   "execution_count": 131,
   "metadata": {},
   "outputs": [
    {
     "data": {
      "text/html": [
       "<div>\n",
       "<style scoped>\n",
       "    .dataframe tbody tr th:only-of-type {\n",
       "        vertical-align: middle;\n",
       "    }\n",
       "\n",
       "    .dataframe tbody tr th {\n",
       "        vertical-align: top;\n",
       "    }\n",
       "\n",
       "    .dataframe thead th {\n",
       "        text-align: right;\n",
       "    }\n",
       "</style>\n",
       "<table border=\"1\" class=\"dataframe\">\n",
       "  <thead>\n",
       "    <tr style=\"text-align: right;\">\n",
       "      <th></th>\n",
       "      <th>city</th>\n",
       "      <th>year</th>\n",
       "      <th>lightning_strike</th>\n",
       "    </tr>\n",
       "  </thead>\n",
       "  <tbody>\n",
       "    <tr>\n",
       "      <th>0</th>\n",
       "      <td>Ajdovščina</td>\n",
       "      <td>1990</td>\n",
       "      <td>0</td>\n",
       "    </tr>\n",
       "    <tr>\n",
       "      <th>1</th>\n",
       "      <td>Sežana</td>\n",
       "      <td>1990</td>\n",
       "      <td>0</td>\n",
       "    </tr>\n",
       "    <tr>\n",
       "      <th>2</th>\n",
       "      <td>Ljutomer</td>\n",
       "      <td>1990</td>\n",
       "      <td>0</td>\n",
       "    </tr>\n",
       "    <tr>\n",
       "      <th>3</th>\n",
       "      <td>Slovenske Konjice</td>\n",
       "      <td>1990</td>\n",
       "      <td>0</td>\n",
       "    </tr>\n",
       "    <tr>\n",
       "      <th>4</th>\n",
       "      <td>Radovljica</td>\n",
       "      <td>1990</td>\n",
       "      <td>0</td>\n",
       "    </tr>\n",
       "  </tbody>\n",
       "</table>\n",
       "</div>"
      ],
      "text/plain": [
       "                city  year  lightning_strike\n",
       "0         Ajdovščina  1990                 0\n",
       "1             Sežana  1990                 0\n",
       "2           Ljutomer  1990                 0\n",
       "3  Slovenske Konjice  1990                 0\n",
       "4         Radovljica  1990                 0"
      ]
     },
     "execution_count": 131,
     "metadata": {},
     "output_type": "execute_result"
    }
   ],
   "source": [
    "df = pd.read_csv(datadir / 'lightning.csv')\n",
    "df.head()"
   ]
  },
  {
   "cell_type": "code",
   "execution_count": 146,
   "metadata": {},
   "outputs": [
    {
     "name": "stdout",
     "output_type": "stream",
     "text": [
      "Accuracy of model that always (for any city and year) return 0 is: 99.87%.\n"
     ]
    }
   ],
   "source": [
    "rate_of_strikes = df['lightning_strike'].mean()\n",
    "print(\"Accuracy of model that always (for any city and year) return 0 is: {}%.\".format(round(1- number_of_strikes,4)*100))\n",
    "\n"
   ]
  }
 ],
 "metadata": {
  "kernelspec": {
   "display_name": "Python 3",
   "language": "python",
   "name": "python3"
  },
  "language_info": {
   "codemirror_mode": {
    "name": "ipython",
    "version": 3
   },
   "file_extension": ".py",
   "mimetype": "text/x-python",
   "name": "python",
   "nbconvert_exporter": "python",
   "pygments_lexer": "ipython3",
   "version": "3.7.3"
  }
 },
 "nbformat": 4,
 "nbformat_minor": 2
}
